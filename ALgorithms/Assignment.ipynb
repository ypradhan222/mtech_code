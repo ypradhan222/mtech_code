{
 "cells": [
  {
   "cell_type": "code",
   "execution_count": null,
   "metadata": {},
   "outputs": [],
   "source": [
    "class dynamictable:\n",
    "   def __init__(self,capacity=10):\n",
    "      self.capacity = capacity\n",
    "      self.size = 0\n",
    "      self.table = [None]*capacity"
   ]
  },
  {
   "cell_type": "code",
   "execution_count": 2,
   "metadata": {},
   "outputs": [
    {
     "name": "stdout",
     "output_type": "stream",
     "text": [
      "[10, 2, 6, 6, 1, 4, 9, 7, 3, 5, 1, 10, 4, 1, 7, 7, 2, 8, 4, 9, 2, 4, 2, 4, 8, 1, 5, 5, 9, 1, 9, 1, 6, 4, 2, 5, 3, 1, 3, 6, 3, 10, 2, 8, 8, 5, 9, 5, 10, 1, 7, 2, 1, 5, 1, 5, 2, 1, 10, 1, 3, 3, 10, 5, 2, 9, 7, 6, 9, 4, 8, 4, 8, 10, 7, 5, 2, 4, 10, 5, 8, 1, 2, 1, 2, 8, 2, 10, 10, 6, 4, 10, 7, 4, 4, 5, 2, 5, 8, 1]\n"
     ]
    }
   ],
   "source": [
    "import random as rd\n",
    "table = [rd.randint(1,10) for _ in range(100)]\n",
    "print(table)\n",
    "# def dynamic_table():\n"
   ]
  },
  {
   "cell_type": "code",
   "execution_count": 14,
   "metadata": {},
   "outputs": [],
   "source": [
    "class Robot:\n",
    "   def __init__(self,name,color,weight):\n",
    "      self.name= name\n",
    "      self.color = color\n",
    "      self.weight = weight\n",
    "   def introduceSelf(self):\n",
    "      print(\"My name is :\" + self.name)"
   ]
  },
  {
   "cell_type": "code",
   "execution_count": 15,
   "metadata": {},
   "outputs": [],
   "source": [
    "# r1 = Robot()\n",
    "# r1.name = \"Tom\"\n",
    "# r1.color = \"red\"\n",
    "# r1.weight = 30\n",
    "\n",
    "# r = Robot()\n",
    "# r.name = \"Jerry\"\n",
    "# r.color = \"Blue\"\n",
    "r1 = Robot(\"Tom\",\"Red\",30)\n",
    "r = Robot(\"Jerry\",\"White\",40)\n",
    "# r.weight = 40"
   ]
  },
  {
   "cell_type": "code",
   "execution_count": 17,
   "metadata": {},
   "outputs": [
    {
     "name": "stdout",
     "output_type": "stream",
     "text": [
      "My name is :Tom\n",
      "My name is :Jerry\n"
     ]
    }
   ],
   "source": [
    "r1.introduceSelf()\n",
    "r.introduceSelf()"
   ]
  },
  {
   "cell_type": "code",
   "execution_count": 6,
   "metadata": {},
   "outputs": [
    {
     "name": "stdout",
     "output_type": "stream",
     "text": [
      "7\n"
     ]
    }
   ],
   "source": [
    "class Node:\n",
    "   def __init__(self,datavalue):\n",
    "      self.datavalue = datavalue\n",
    "      self.nextvalue = None\n",
    "class Linkedlist:\n",
    "   def __init__(self):\n",
    "      self.head= None\n",
    "   def addNode(self,datavalue):\n",
    "      newnode= Node(datavalue)\n",
    "      if self.head is None:\n",
    "         self.head = newnode\n",
    "      else:\n",
    "         current = self.head\n",
    "         while current.nextvalue:\n",
    "            current = current.nextvalue\n",
    "         current.nextvalue = newnode\n",
    "   def delete(self,node):\n",
    "      if self.head is None:\n",
    "         return\n",
    "      if self.head==node:\n",
    "         self.head = self.head.nextvalue\n",
    "         return\n",
    "      \n",
    "newlist = Linkedlist()\n",
    "newlist.head = Node(1)\n",
    "# print(newlist.head)\n",
    "# next_node = Node(7)\n",
    "# another_node = Node(2)\n",
    "newlist.head.nextvalue = next_node\n",
    "next_node.nextvalue = another_node\n",
    "print(next_node.datavalue)"
   ]
  },
  {
   "cell_type": "code",
   "execution_count": 21,
   "metadata": {},
   "outputs": [
    {
     "ename": "MemoryError",
     "evalue": "",
     "output_type": "error",
     "traceback": [
      "\u001b[0;31m---------------------------------------------------------------------------\u001b[0m",
      "\u001b[0;31mMemoryError\u001b[0m                               Traceback (most recent call last)",
      "\u001b[1;32m/home/dmacs-5/Documents/mtech_2023/ALgorithms/Assignment.ipynb Cell 7\u001b[0m line \u001b[0;36m3\n\u001b[1;32m     <a href='vscode-notebook-cell:/home/dmacs-5/Documents/mtech_2023/ALgorithms/Assignment.ipynb#W6sZmlsZQ%3D%3D?line=34'>35</a>\u001b[0m table \u001b[39m=\u001b[39m Node()\n\u001b[1;32m     <a href='vscode-notebook-cell:/home/dmacs-5/Documents/mtech_2023/ALgorithms/Assignment.ipynb#W6sZmlsZQ%3D%3D?line=35'>36</a>\u001b[0m \u001b[39mfor\u001b[39;00m i \u001b[39min\u001b[39;00m \u001b[39mrange\u001b[39m(\u001b[39m100\u001b[39m):\n\u001b[0;32m---> <a href='vscode-notebook-cell:/home/dmacs-5/Documents/mtech_2023/ALgorithms/Assignment.ipynb#W6sZmlsZQ%3D%3D?line=36'>37</a>\u001b[0m     table\u001b[39m.\u001b[39;49minsert(i)\n\u001b[1;32m     <a href='vscode-notebook-cell:/home/dmacs-5/Documents/mtech_2023/ALgorithms/Assignment.ipynb#W6sZmlsZQ%3D%3D?line=37'>38</a>\u001b[0m table\u001b[39m.\u001b[39mdisplay()\n",
      "\u001b[1;32m/home/dmacs-5/Documents/mtech_2023/ALgorithms/Assignment.ipynb Cell 7\u001b[0m line \u001b[0;36m9\n\u001b[1;32m      <a href='vscode-notebook-cell:/home/dmacs-5/Documents/mtech_2023/ALgorithms/Assignment.ipynb#W6sZmlsZQ%3D%3D?line=6'>7</a>\u001b[0m \u001b[39mdef\u001b[39;00m \u001b[39minsert\u001b[39m(\u001b[39mself\u001b[39m, datavalue):\n\u001b[1;32m      <a href='vscode-notebook-cell:/home/dmacs-5/Documents/mtech_2023/ALgorithms/Assignment.ipynb#W6sZmlsZQ%3D%3D?line=7'>8</a>\u001b[0m     \u001b[39mif\u001b[39;00m \u001b[39mself\u001b[39m\u001b[39m.\u001b[39mlength \u001b[39m==\u001b[39m \u001b[39mself\u001b[39m\u001b[39m.\u001b[39msize:\n\u001b[0;32m----> <a href='vscode-notebook-cell:/home/dmacs-5/Documents/mtech_2023/ALgorithms/Assignment.ipynb#W6sZmlsZQ%3D%3D?line=8'>9</a>\u001b[0m         \u001b[39mself\u001b[39;49m\u001b[39m.\u001b[39;49mresize()\n\u001b[1;32m     <a href='vscode-notebook-cell:/home/dmacs-5/Documents/mtech_2023/ALgorithms/Assignment.ipynb#W6sZmlsZQ%3D%3D?line=9'>10</a>\u001b[0m     \u001b[39mself\u001b[39m\u001b[39m.\u001b[39mtable[\u001b[39mself\u001b[39m\u001b[39m.\u001b[39mlength] \u001b[39m=\u001b[39m datavalue\n\u001b[1;32m     <a href='vscode-notebook-cell:/home/dmacs-5/Documents/mtech_2023/ALgorithms/Assignment.ipynb#W6sZmlsZQ%3D%3D?line=10'>11</a>\u001b[0m     \u001b[39mself\u001b[39m\u001b[39m.\u001b[39mlength \u001b[39m+\u001b[39m\u001b[39m=\u001b[39m \u001b[39m1\u001b[39m\n",
      "\u001b[1;32m/home/dmacs-5/Documents/mtech_2023/ALgorithms/Assignment.ipynb Cell 7\u001b[0m line \u001b[0;36m2\n\u001b[1;32m     <a href='vscode-notebook-cell:/home/dmacs-5/Documents/mtech_2023/ALgorithms/Assignment.ipynb#W6sZmlsZQ%3D%3D?line=22'>23</a>\u001b[0m \u001b[39mdef\u001b[39;00m \u001b[39mresize\u001b[39m(\u001b[39mself\u001b[39m):\n\u001b[1;32m     <a href='vscode-notebook-cell:/home/dmacs-5/Documents/mtech_2023/ALgorithms/Assignment.ipynb#W6sZmlsZQ%3D%3D?line=23'>24</a>\u001b[0m     size_new \u001b[39m=\u001b[39m \u001b[39mself\u001b[39m\u001b[39m.\u001b[39mfibonacci(\u001b[39mself\u001b[39m\u001b[39m.\u001b[39msize)\n\u001b[0;32m---> <a href='vscode-notebook-cell:/home/dmacs-5/Documents/mtech_2023/ALgorithms/Assignment.ipynb#W6sZmlsZQ%3D%3D?line=24'>25</a>\u001b[0m     new_table \u001b[39m=\u001b[39m [\u001b[39mNone\u001b[39;49;00m] \u001b[39m*\u001b[39;49m size_new\n\u001b[1;32m     <a href='vscode-notebook-cell:/home/dmacs-5/Documents/mtech_2023/ALgorithms/Assignment.ipynb#W6sZmlsZQ%3D%3D?line=25'>26</a>\u001b[0m     \u001b[39mfor\u001b[39;00m i \u001b[39min\u001b[39;00m \u001b[39mrange\u001b[39m(\u001b[39mself\u001b[39m\u001b[39m.\u001b[39mlength):\n\u001b[1;32m     <a href='vscode-notebook-cell:/home/dmacs-5/Documents/mtech_2023/ALgorithms/Assignment.ipynb#W6sZmlsZQ%3D%3D?line=26'>27</a>\u001b[0m         new_table[i] \u001b[39m=\u001b[39m \u001b[39mself\u001b[39m\u001b[39m.\u001b[39mtable[i]\n",
      "\u001b[0;31mMemoryError\u001b[0m: "
     ]
    }
   ],
   "source": [
    "class Node:\n",
    "    def __init__(self):\n",
    "        self.size = 10  # Initial size of the table\n",
    "        self.length = 0\n",
    "        self.table = [None] * self.size\n",
    "\n",
    "    def insert(self, datavalue):\n",
    "        if self.length == self.size:\n",
    "            self.resize()\n",
    "        self.table[self.length] = datavalue\n",
    "        self.length += 1\n",
    "\n",
    "    def fibonacci(self, n):\n",
    "        if n <= 0:\n",
    "            return 1\n",
    "        elif n == 1:\n",
    "            return 1\n",
    "        else:\n",
    "            a, b = 1, 1\n",
    "            for _ in range(2, n + 1):\n",
    "                a, b = b, a + b\n",
    "            return b\n",
    "    def resize(self):\n",
    "        size_new = self.fibonacci(self.size)\n",
    "        new_table = [None] * size_new\n",
    "        for i in range(self.length):\n",
    "            new_table[i] = self.table[i]\n",
    "        self.size = size_new\n",
    "        self.table = new_table\n",
    "\n",
    "    def display(self):\n",
    "        print(self.table[:self.length])\n",
    "\n",
    "if __name__ == \"__main__\":\n",
    "    table = Node()\n",
    "    for i in range(100):\n",
    "        table.insert(i)\n",
    "    table.display()\n",
    " "
   ]
  }
 ],
 "metadata": {
  "kernelspec": {
   "display_name": "Python 3",
   "language": "python",
   "name": "python3"
  },
  "language_info": {
   "codemirror_mode": {
    "name": "ipython",
    "version": 3
   },
   "file_extension": ".py",
   "mimetype": "text/x-python",
   "name": "python",
   "nbconvert_exporter": "python",
   "pygments_lexer": "ipython3",
   "version": "3.10.12"
  },
  "orig_nbformat": 4
 },
 "nbformat": 4,
 "nbformat_minor": 2
}
