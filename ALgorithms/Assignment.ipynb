{
 "cells": [
  {
   "cell_type": "code",
   "execution_count": null,
   "metadata": {},
   "outputs": [],
   "source": [
    "class dynamictable:\n",
    "   def __init__(self,capacity=10):\n",
    "      self.capacity = capacity\n",
    "      self.size = 0\n",
    "      self.table = [None]*capacity"
   ]
  },
  {
   "cell_type": "code",
   "execution_count": 2,
   "metadata": {},
   "outputs": [
    {
     "name": "stdout",
     "output_type": "stream",
     "text": [
      "[10, 2, 6, 6, 1, 4, 9, 7, 3, 5, 1, 10, 4, 1, 7, 7, 2, 8, 4, 9, 2, 4, 2, 4, 8, 1, 5, 5, 9, 1, 9, 1, 6, 4, 2, 5, 3, 1, 3, 6, 3, 10, 2, 8, 8, 5, 9, 5, 10, 1, 7, 2, 1, 5, 1, 5, 2, 1, 10, 1, 3, 3, 10, 5, 2, 9, 7, 6, 9, 4, 8, 4, 8, 10, 7, 5, 2, 4, 10, 5, 8, 1, 2, 1, 2, 8, 2, 10, 10, 6, 4, 10, 7, 4, 4, 5, 2, 5, 8, 1]\n"
     ]
    }
   ],
   "source": [
    "import random as rd\n",
    "table = [rd.randint(1,10) for _ in range(100)]\n",
    "print(table)\n",
    "# def dynamic_table():\n"
   ]
  },
  {
   "cell_type": "code",
   "execution_count": 14,
   "metadata": {},
   "outputs": [],
   "source": [
    "class Robot:\n",
    "   def __init__(self,name,color,weight):\n",
    "      self.name= name\n",
    "      self.color = color\n",
    "      self.weight = weight\n",
    "   def introduceSelf(self):\n",
    "      print(\"My name is :\" + self.name)"
   ]
  },
  {
   "cell_type": "code",
   "execution_count": 15,
   "metadata": {},
   "outputs": [],
   "source": [
    "# r1 = Robot()\n",
    "# r1.name = \"Tom\"\n",
    "# r1.color = \"red\"\n",
    "# r1.weight = 30\n",
    "\n",
    "# r = Robot()\n",
    "# r.name = \"Jerry\"\n",
    "# r.color = \"Blue\"\n",
    "r1 = Robot(\"Tom\",\"Red\",30)\n",
    "r = Robot(\"Jerry\",\"White\",40)\n",
    "# r.weight = 40"
   ]
  },
  {
   "cell_type": "code",
   "execution_count": 17,
   "metadata": {},
   "outputs": [
    {
     "name": "stdout",
     "output_type": "stream",
     "text": [
      "My name is :Tom\n",
      "My name is :Jerry\n"
     ]
    }
   ],
   "source": [
    "r1.introduceSelf()\n",
    "r.introduceSelf()"
   ]
  },
  {
   "cell_type": "code",
   "execution_count": 6,
   "metadata": {},
   "outputs": [
    {
     "name": "stdout",
     "output_type": "stream",
     "text": [
      "7\n"
     ]
    }
   ],
   "source": [
    "class Node:\n",
    "   def __init__(self,datavalue):\n",
    "      self.datavalue = datavalue\n",
    "      self.nextvalue = None\n",
    "class Linkedlist:\n",
    "   def __init__(self):\n",
    "      self.head= None\n",
    "   def addNode(self,datavalue):\n",
    "      newnode= Node(datavalue)\n",
    "      if self.head is None:\n",
    "         self.head = newnode\n",
    "      else:\n",
    "         current = self.head\n",
    "         while current.nextvalue:\n",
    "            current = current.nextvalue\n",
    "         current.nextvalue = newnode\n",
    "   def delete(self,node):\n",
    "      if self.head is None:\n",
    "         return\n",
    "      if self.head==node:\n",
    "         self.head = self.head.nextvalue\n",
    "         return\n",
    "      \n",
    "newlist = Linkedlist()\n",
    "newlist.head = Node(1)\n",
    "# print(newlist.head)\n",
    "# next_node = Node(7)\n",
    "# another_node = Node(2)\n",
    "newlist.head.nextvalue = next_node\n",
    "next_node.nextvalue = another_node\n",
    "print(next_node.datavalue)"
   ]
  },
  {
   "cell_type": "code",
   "execution_count": 3,
   "metadata": {},
   "outputs": [
    {
     "ename": "MemoryError",
     "evalue": "",
     "output_type": "error",
     "traceback": [
      "\u001b[0;31m---------------------------------------------------------------------------\u001b[0m",
      "\u001b[0;31mMemoryError\u001b[0m                               Traceback (most recent call last)",
      "\u001b[1;32m/home/dmacs-5/Documents/mtech_2023/ALgorithms/Assignment.ipynb Cell 7\u001b[0m line \u001b[0;36m3\n\u001b[1;32m     <a href='vscode-notebook-cell:/home/dmacs-5/Documents/mtech_2023/ALgorithms/Assignment.ipynb#W6sZmlsZQ%3D%3D?line=34'>35</a>\u001b[0m table \u001b[39m=\u001b[39m Node()\n\u001b[1;32m     <a href='vscode-notebook-cell:/home/dmacs-5/Documents/mtech_2023/ALgorithms/Assignment.ipynb#W6sZmlsZQ%3D%3D?line=35'>36</a>\u001b[0m \u001b[39mfor\u001b[39;00m i \u001b[39min\u001b[39;00m \u001b[39mrange\u001b[39m(\u001b[39m100\u001b[39m):\n\u001b[0;32m---> <a href='vscode-notebook-cell:/home/dmacs-5/Documents/mtech_2023/ALgorithms/Assignment.ipynb#W6sZmlsZQ%3D%3D?line=36'>37</a>\u001b[0m     table\u001b[39m.\u001b[39;49minsert(i)\n\u001b[1;32m     <a href='vscode-notebook-cell:/home/dmacs-5/Documents/mtech_2023/ALgorithms/Assignment.ipynb#W6sZmlsZQ%3D%3D?line=37'>38</a>\u001b[0m table\u001b[39m.\u001b[39mdisplay()\n",
      "\u001b[1;32m/home/dmacs-5/Documents/mtech_2023/ALgorithms/Assignment.ipynb Cell 7\u001b[0m line \u001b[0;36m9\n\u001b[1;32m      <a href='vscode-notebook-cell:/home/dmacs-5/Documents/mtech_2023/ALgorithms/Assignment.ipynb#W6sZmlsZQ%3D%3D?line=6'>7</a>\u001b[0m \u001b[39mdef\u001b[39;00m \u001b[39minsert\u001b[39m(\u001b[39mself\u001b[39m, datavalue):\n\u001b[1;32m      <a href='vscode-notebook-cell:/home/dmacs-5/Documents/mtech_2023/ALgorithms/Assignment.ipynb#W6sZmlsZQ%3D%3D?line=7'>8</a>\u001b[0m     \u001b[39mif\u001b[39;00m \u001b[39mself\u001b[39m\u001b[39m.\u001b[39mlength \u001b[39m==\u001b[39m \u001b[39mself\u001b[39m\u001b[39m.\u001b[39msize:\n\u001b[0;32m----> <a href='vscode-notebook-cell:/home/dmacs-5/Documents/mtech_2023/ALgorithms/Assignment.ipynb#W6sZmlsZQ%3D%3D?line=8'>9</a>\u001b[0m         \u001b[39mself\u001b[39;49m\u001b[39m.\u001b[39;49mresize()\n\u001b[1;32m     <a href='vscode-notebook-cell:/home/dmacs-5/Documents/mtech_2023/ALgorithms/Assignment.ipynb#W6sZmlsZQ%3D%3D?line=9'>10</a>\u001b[0m     \u001b[39mself\u001b[39m\u001b[39m.\u001b[39mtable[\u001b[39mself\u001b[39m\u001b[39m.\u001b[39mlength] \u001b[39m=\u001b[39m datavalue\n\u001b[1;32m     <a href='vscode-notebook-cell:/home/dmacs-5/Documents/mtech_2023/ALgorithms/Assignment.ipynb#W6sZmlsZQ%3D%3D?line=10'>11</a>\u001b[0m     \u001b[39mself\u001b[39m\u001b[39m.\u001b[39mlength \u001b[39m+\u001b[39m\u001b[39m=\u001b[39m \u001b[39m1\u001b[39m\n",
      "\u001b[1;32m/home/dmacs-5/Documents/mtech_2023/ALgorithms/Assignment.ipynb Cell 7\u001b[0m line \u001b[0;36m2\n\u001b[1;32m     <a href='vscode-notebook-cell:/home/dmacs-5/Documents/mtech_2023/ALgorithms/Assignment.ipynb#W6sZmlsZQ%3D%3D?line=22'>23</a>\u001b[0m \u001b[39mdef\u001b[39;00m \u001b[39mresize\u001b[39m(\u001b[39mself\u001b[39m):\n\u001b[1;32m     <a href='vscode-notebook-cell:/home/dmacs-5/Documents/mtech_2023/ALgorithms/Assignment.ipynb#W6sZmlsZQ%3D%3D?line=23'>24</a>\u001b[0m     size_new \u001b[39m=\u001b[39m \u001b[39mself\u001b[39m\u001b[39m.\u001b[39mfibonacci(\u001b[39mself\u001b[39m\u001b[39m.\u001b[39msize)\n\u001b[0;32m---> <a href='vscode-notebook-cell:/home/dmacs-5/Documents/mtech_2023/ALgorithms/Assignment.ipynb#W6sZmlsZQ%3D%3D?line=24'>25</a>\u001b[0m     new_table \u001b[39m=\u001b[39m [\u001b[39mNone\u001b[39;49;00m] \u001b[39m*\u001b[39;49m size_new\n\u001b[1;32m     <a href='vscode-notebook-cell:/home/dmacs-5/Documents/mtech_2023/ALgorithms/Assignment.ipynb#W6sZmlsZQ%3D%3D?line=25'>26</a>\u001b[0m     \u001b[39mfor\u001b[39;00m i \u001b[39min\u001b[39;00m \u001b[39mrange\u001b[39m(\u001b[39mself\u001b[39m\u001b[39m.\u001b[39mlength):\n\u001b[1;32m     <a href='vscode-notebook-cell:/home/dmacs-5/Documents/mtech_2023/ALgorithms/Assignment.ipynb#W6sZmlsZQ%3D%3D?line=26'>27</a>\u001b[0m         new_table[i] \u001b[39m=\u001b[39m \u001b[39mself\u001b[39m\u001b[39m.\u001b[39mtable[i]\n",
      "\u001b[0;31mMemoryError\u001b[0m: "
     ]
    }
   ],
   "source": [
    "class Node:\n",
    "    def __init__(self):\n",
    "        self.size = 10  # Initial size of the table\n",
    "        self.length = 0\n",
    "        self.table = [None] * self.size\n",
    "\n",
    "    def insert(self, datavalue):\n",
    "        if self.length == self.size:\n",
    "            self.resize()\n",
    "        self.table[self.length] = datavalue\n",
    "        self.length += 1\n",
    "\n",
    "    def fibonacci(self, n):\n",
    "        if n <= 0:\n",
    "            return 1\n",
    "        elif n == 1:\n",
    "            return 1\n",
    "        else:\n",
    "            a, b = 1, 1\n",
    "            for _ in range(2, n + 1):\n",
    "                a, b = b, a + b\n",
    "            return b\n",
    "    def resize(self):\n",
    "        size_new = self.fibonacci(self.size)\n",
    "        new_table = [None] * size_new\n",
    "        for i in range(self.length):\n",
    "            new_table[i] = self.table[i]\n",
    "        self.size = size_new\n",
    "        self.table = new_table\n",
    "\n",
    "    def display(self):\n",
    "        print(self.table[:self.length])\n",
    "\n",
    "if __name__ == \"__main__\":\n",
    "    table = Node()\n",
    "    for i in range(100):\n",
    "        table.insert(i)\n",
    "    table.display()\n",
    " "
   ]
  },
  {
   "cell_type": "code",
   "execution_count": 2,
   "metadata": {},
   "outputs": [],
   "source": [
    "def find_combinations(target, numbers, current_index=0, current_combination=[]):\n",
    "    if target == 0:\n",
    "        print(current_combination)\n",
    "        return\n",
    "\n",
    "    if current_index >= len(numbers):\n",
    "        return\n",
    "\n",
    "    # Include the current number if it doesn't exceed the target\n",
    "    if target >= numbers[current_index]:\n",
    "        find_combinations(target - numbers[current_index], numbers, current_index + 2, current_combination + [numbers[current_index]])\n",
    "\n",
    "    # Skip the current number\n",
    "    find_combinations(target, numbers, current_index + 1, current_combination)\n",
    "\n",
    "target = 50\n",
    "numbers = [1, 3, 5, 8, 13, 21]\n",
    "\n",
    "find_combinations(target, numbers)\n"
   ]
  },
  {
   "cell_type": "code",
   "execution_count": 1,
   "metadata": {},
   "outputs": [],
   "source": [
    "def find_combinations(target, numbers):\n",
    "    n = len(numbers)\n",
    "    # Create a 2D table to store solutions to subproblems\n",
    "    dp = [[0] * (target + 1) for _ in range(n + 1)]\n",
    "\n",
    "    # Initialize the first row to 1 (base case)\n",
    "    for i in range(n + 1):\n",
    "        dp[i][0] = 1\n",
    "\n",
    "    # Fill the dp table using bottom-up dynamic programming\n",
    "    for i in range(1, n + 1):\n",
    "        for j in range(1, target + 1):\n",
    "            if numbers[i - 1] <= j:\n",
    "                dp[i][j] = dp[i - 2][j] + dp[i - 1][j - numbers[i - 1]]\n",
    "            else:\n",
    "                dp[i][j] = dp[i - 1][j]\n",
    "\n",
    "    # Backtrack to find the combinations\n",
    "    def backtrack(i, j, combination):\n",
    "        if i == 0 and j == 0:\n",
    "            print(combination)\n",
    "            return\n",
    "        if i < 1 or j < 0:\n",
    "            return\n",
    "        if dp[i][j] == dp[i - 1][j]:\n",
    "            backtrack(i - 1, j, combination)\n",
    "        if i >= 2 and j >= numbers[i - 1]:\n",
    "            backtrack(i - 2, j - numbers[i - 1], combination + [numbers[i - 1]])\n",
    "\n",
    "    combination = []\n",
    "    backtrack(n, target, combination)\n",
    "\n",
    "target = 50\n",
    "numbers = [1, 3, 5, 8, 13, 21]\n",
    "\n",
    "find_combinations(target, numbers)\n"
   ]
  },
  {
   "cell_type": "code",
   "execution_count": 18,
   "metadata": {},
   "outputs": [
    {
     "name": "stdout",
     "output_type": "stream",
     "text": [
      "[1, 1, 2, 3, 5, 8, 13, 21, 34, 55, 89, 144, 233, 377]\n"
     ]
    }
   ],
   "source": [
    "import random as rd\n",
    "\n",
    "def fibonacci(n):\n",
    "    if n <= 0:\n",
    "        return \"1\"\n",
    "    elif n == 1:\n",
    "        return \"1\"\n",
    "    else:\n",
    "        a, b = 1, 1\n",
    "        # sequence = \"1 + 1\"\n",
    "        sequence =[]\n",
    "        sequence.append(a)\n",
    "        sequence.append(b)\n",
    "        for _ in range(2, n - 1):\n",
    "            a, b = b, a + b\n",
    "            # sequence += f\" + {b}\"\n",
    "            sequence.append(b)\n",
    "            # sequence.append(b)\n",
    "        return sequence\n",
    "def showSum(sequence,number):\n",
    "    for i in range(len(sequence)):\n",
    "        if sequence[i]!= number:\n",
    "# number = int(input(\"Enter your number: \"))\n",
    "new = fibonacci(15)\n",
    "print(new)\n",
    "\n"
   ]
  },
  {
   "cell_type": "code",
   "execution_count": 12,
   "metadata": {},
   "outputs": [
    {
     "name": "stdout",
     "output_type": "stream",
     "text": [
      "Fibonacci Sequence: [0, 1, 1, 2, 3]\n"
     ]
    },
    {
     "ename": "KeyboardInterrupt",
     "evalue": "",
     "output_type": "error",
     "traceback": [
      "\u001b[0;31m---------------------------------------------------------------------------\u001b[0m",
      "\u001b[0;31mKeyboardInterrupt\u001b[0m                         Traceback (most recent call last)",
      "\u001b[1;32m/home/dmacs-5/Documents/mtech_2023/ALgorithms/Assignment.ipynb Cell 11\u001b[0m line \u001b[0;36m2\n\u001b[1;32m     <a href='vscode-notebook-cell:/home/dmacs-5/Documents/mtech_2023/ALgorithms/Assignment.ipynb#X13sZmlsZQ%3D%3D?line=22'>23</a>\u001b[0m sequence \u001b[39m=\u001b[39m \u001b[39mlist\u001b[39m(fibonacci(number))\n\u001b[1;32m     <a href='vscode-notebook-cell:/home/dmacs-5/Documents/mtech_2023/ALgorithms/Assignment.ipynb#X13sZmlsZQ%3D%3D?line=23'>24</a>\u001b[0m \u001b[39mprint\u001b[39m(\u001b[39m\"\u001b[39m\u001b[39mFibonacci Sequence:\u001b[39m\u001b[39m\"\u001b[39m, sequence)\n\u001b[0;32m---> <a href='vscode-notebook-cell:/home/dmacs-5/Documents/mtech_2023/ALgorithms/Assignment.ipynb#X13sZmlsZQ%3D%3D?line=24'>25</a>\u001b[0m \u001b[39mprint\u001b[39m(showSum(sequence,current,target))\n",
      "\u001b[1;32m/home/dmacs-5/Documents/mtech_2023/ALgorithms/Assignment.ipynb Cell 11\u001b[0m line \u001b[0;36m1\n\u001b[1;32m     <a href='vscode-notebook-cell:/home/dmacs-5/Documents/mtech_2023/ALgorithms/Assignment.ipynb#X13sZmlsZQ%3D%3D?line=9'>10</a>\u001b[0m     \u001b[39mreturn\u001b[39;00m newlist\n\u001b[1;32m     <a href='vscode-notebook-cell:/home/dmacs-5/Documents/mtech_2023/ALgorithms/Assignment.ipynb#X13sZmlsZQ%3D%3D?line=10'>11</a>\u001b[0m i \u001b[39m=\u001b[39m\u001b[39m0\u001b[39m\n\u001b[0;32m---> <a href='vscode-notebook-cell:/home/dmacs-5/Documents/mtech_2023/ALgorithms/Assignment.ipynb#X13sZmlsZQ%3D%3D?line=11'>12</a>\u001b[0m \u001b[39mwhile\u001b[39;00m(i\u001b[39m<\u001b[39m\u001b[39mlen\u001b[39m(sequence)):\n\u001b[1;32m     <a href='vscode-notebook-cell:/home/dmacs-5/Documents/mtech_2023/ALgorithms/Assignment.ipynb#X13sZmlsZQ%3D%3D?line=12'>13</a>\u001b[0m     \u001b[39mif\u001b[39;00m sequence[i\u001b[39m+\u001b[39m\u001b[39m1\u001b[39m]\u001b[39m>\u001b[39mtarget:\n\u001b[1;32m     <a href='vscode-notebook-cell:/home/dmacs-5/Documents/mtech_2023/ALgorithms/Assignment.ipynb#X13sZmlsZQ%3D%3D?line=13'>14</a>\u001b[0m         \u001b[39msum\u001b[39m \u001b[39m+\u001b[39m\u001b[39m=\u001b[39m sequence[i]\n",
      "\u001b[0;31mKeyboardInterrupt\u001b[0m: "
     ]
    }
   ],
   "source": [
    "def fibonacci(n):\n",
    "    a, b = 0, 1\n",
    "    for _ in range(n):\n",
    "        yield a\n",
    "        a, b = b, a + b\n",
    "def showSum(sequence,current,target):\n",
    "    newlist=[]\n",
    "    sum = 0\n",
    "    if target == 0:\n",
    "        return newlist\n",
    "    i =0\n",
    "    while(i<len(sequence)):\n",
    "        if sequence[i+1]>target:\n",
    "            sum += sequence[i]\n",
    "            newlist.append(sequence[i])\n",
    "            i+=1\n",
    "    return showSum(sequence,target-sum)\n",
    "\n",
    "\n",
    "number = int(input(\"Enter the number of terms: \"))\n",
    "target = int(input(\"Enter the target number\"))\n",
    "current = target\n",
    "sequence = list(fibonacci(number))\n",
    "print(\"Fibonacci Sequence:\", sequence)\n",
    "print(showSum(sequence,current,target))\n"
   ]
  },
  {
   "cell_type": "code",
   "execution_count": 11,
   "metadata": {},
   "outputs": [
    {
     "name": "stdout",
     "output_type": "stream",
     "text": [
      "Fibonacci Sequence: [0, 1, 1, 2, 3, 5, 8]\n",
      "No valid subset found that adds up to the target.\n"
     ]
    }
   ],
   "source": [
    "def fibonacci(n):\n",
    "    a, b = 0, 1\n",
    "    for _ in range(n):\n",
    "        yield a\n",
    "        a, b = b, a + b\n",
    "\n",
    "def findSubset(sequence, target, i=0, subset=[]):\n",
    "    if target == 0:\n",
    "        return subset\n",
    "    if i == len(sequence):\n",
    "        return None\n",
    "\n",
    "    # Include the current element in the subset\n",
    "    if (i == 0 or sequence[i] != sequence[i - 1] + 1) and sequence[i] <= target:\n",
    "        new_target = target - sequence[i]\n",
    "        new_subset = subset + [sequence[i]]\n",
    "        result = findSubset(sequence, new_target, i + 1, new_subset)\n",
    "        if result is not None:\n",
    "            return result\n",
    "\n",
    "    # Exclude the current element from the subset\n",
    "    return findSubset(sequence, target, i + 1, subset)\n",
    "\n",
    "number = int(input(\"Enter the number of terms: \"))\n",
    "target = int(input(\"Enter the target number: \"))\n",
    "sequence = list(fibonacci(number))\n",
    "print(\"Fibonacci Sequence:\", sequence)\n",
    "result = findSubset(sequence, target)\n",
    "\n",
    "if result:\n",
    "    print(\"Subset that adds up to the target:\", result)\n",
    "else:\n",
    "    print(\"No valid subset found that adds up to the target.\")\n"
   ]
  },
  {
   "cell_type": "code",
   "execution_count": 44,
   "metadata": {},
   "outputs": [
    {
     "name": "stdout",
     "output_type": "stream",
     "text": [
      "Minimum Triangulation Cost: 15.30056307974577\n"
     ]
    }
   ],
   "source": [
    "import math\n",
    "\n",
    "class Point:\n",
    "    def __init__(self, x, y):\n",
    "        self.x = x\n",
    "        self.y = y\n",
    "\n",
    "def distancePoints(p1, p2):\n",
    "    dist = math.sqrt((p1.x - p2.x) ** 2 + (p1.y - p2.y) ** 2)\n",
    "    return dist\n",
    "\n",
    "def cost(points, i, j, k):\n",
    "    p1 = points[i]\n",
    "    p2 = points[j]\n",
    "    p3 = points[k]\n",
    "    perimeter = distancePoints(p1, p2) + distancePoints(p1, p3) + distancePoints(p2, p3)\n",
    "    return perimeter\n",
    "\n",
    "def minimumTriangulation(points, n):\n",
    "    table = [[0.0] * n for _ in range(n)]\n",
    "    for gap in range(2, n):\n",
    "        for i in range(n):\n",
    "            j = i + gap\n",
    "            if j < n:\n",
    "                table[i][j] = float('inf')\n",
    "                for k in range(i + 1, j):\n",
    "                    min_cost = table[i][k] + table[k][j] + cost(points, i, j, k)\n",
    "                    if table[i][j] > min_cost:\n",
    "                        table[i][j] = min_cost\n",
    "    return table[0][n - 1]\n",
    "\n",
    "if __name__ == \"__main__\":\n",
    "    points = [Point(0, 0), Point(1, 0), Point(2, 1), Point(1, 2), Point(0, 2)]  # Points represented as instances of the Point class\n",
    "    n = len(points)\n",
    "    result = minimumTriangulation(points, n)\n",
    "    print(f\"Minimum Triangulation Cost: {result}\")\n"
   ]
  },
  {
   "cell_type": "code",
   "execution_count": 10,
   "metadata": {},
   "outputs": [
    {
     "name": "stdout",
     "output_type": "stream",
     "text": [
      "Minimum Triangulation Cost: 11.65685424949238\n"
     ]
    }
   ],
   "source": [
    "import math\n",
    "\n",
    "def distancePoints(p1, p2):\n",
    "    dist = math.sqrt((p1[0] - p2[0]) ** 2 + (p1[1] - p2[1]) ** 2)\n",
    "    return dist\n",
    "\n",
    "def cost(points, i, j, k):\n",
    "    p1 = points[i]\n",
    "    p2 = points[j]\n",
    "    p3 = points[k]\n",
    "    perimeter = distancePoints(p1, p2) + distancePoints(p1, p3) + distancePoints(p2, p3)\n",
    "    return perimeter\n",
    "\n",
    "def minimumTriangulation(points, n):\n",
    "    table = [[0.0] * n for _ in range(n)]\n",
    "    for gap in range(2, n):\n",
    "        for i in range(n):\n",
    "            j = i + gap\n",
    "            if j < n:\n",
    "                table[i][j] = float('inf')\n",
    "                for k in range(i + 1, j):\n",
    "                    min_cost = table[i][k] + table[k][j] + cost(points, i, j, k)\n",
    "                    if table[i][j] > min_cost:\n",
    "                        table[i][j] = min_cost\n",
    "    return table[0][n - 1]\n",
    "\n",
    "if __name__ == \"__main__\":\n",
    "    points = [(0, 0), (1, 1), (2, 1), (1, 2), (0, 2)]  # Points represented as tuples\n",
    "    n = len(points)\n",
    "    result = minimumTriangulation(points, n)\n",
    "    print(f\"Minimum Triangulation Cost: {result}\")\n"
   ]
  },
  {
   "cell_type": "code",
   "execution_count": null,
   "metadata": {},
   "outputs": [],
   "source": []
  }
 ],
 "metadata": {
  "kernelspec": {
   "display_name": "Python 3",
   "language": "python",
   "name": "python3"
  },
  "language_info": {
   "codemirror_mode": {
    "name": "ipython",
    "version": 3
   },
   "file_extension": ".py",
   "mimetype": "text/x-python",
   "name": "python",
   "nbconvert_exporter": "python",
   "pygments_lexer": "ipython3",
   "version": "3.10.12"
  },
  "orig_nbformat": 4
 },
 "nbformat": 4,
 "nbformat_minor": 2
}
