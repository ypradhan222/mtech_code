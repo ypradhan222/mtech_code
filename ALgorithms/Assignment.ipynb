{
 "cells": [
  {
   "cell_type": "code",
   "execution_count": null,
   "metadata": {},
   "outputs": [],
   "source": [
    "class dynamictable:\n",
    "   def __init__(self,capacity=10):\n",
    "      self.capacity = capacity\n",
    "      self.size = 0\n",
    "      self.table = [None]*capacity"
   ]
  },
  {
   "cell_type": "code",
   "execution_count": 2,
   "metadata": {},
   "outputs": [
    {
     "name": "stdout",
     "output_type": "stream",
     "text": [
      "[10, 2, 6, 6, 1, 4, 9, 7, 3, 5, 1, 10, 4, 1, 7, 7, 2, 8, 4, 9, 2, 4, 2, 4, 8, 1, 5, 5, 9, 1, 9, 1, 6, 4, 2, 5, 3, 1, 3, 6, 3, 10, 2, 8, 8, 5, 9, 5, 10, 1, 7, 2, 1, 5, 1, 5, 2, 1, 10, 1, 3, 3, 10, 5, 2, 9, 7, 6, 9, 4, 8, 4, 8, 10, 7, 5, 2, 4, 10, 5, 8, 1, 2, 1, 2, 8, 2, 10, 10, 6, 4, 10, 7, 4, 4, 5, 2, 5, 8, 1]\n"
     ]
    }
   ],
   "source": [
    "import random as rd\n",
    "table = [rd.randint(1,10) for _ in range(100)]\n",
    "print(table)\n",
    "# def dynamic_table():\n"
   ]
  },
  {
   "cell_type": "code",
   "execution_count": 14,
   "metadata": {},
   "outputs": [],
   "source": [
    "class Robot:\n",
    "   def __init__(self,name,color,weight):\n",
    "      self.name= name\n",
    "      self.color = color\n",
    "      self.weight = weight\n",
    "   def introduceSelf(self):\n",
    "      print(\"My name is :\" + self.name)"
   ]
  },
  {
   "cell_type": "code",
   "execution_count": 15,
   "metadata": {},
   "outputs": [],
   "source": [
    "# r1 = Robot()\n",
    "# r1.name = \"Tom\"\n",
    "# r1.color = \"red\"\n",
    "# r1.weight = 30\n",
    "\n",
    "# r = Robot()\n",
    "# r.name = \"Jerry\"\n",
    "# r.color = \"Blue\"\n",
    "r1 = Robot(\"Tom\",\"Red\",30)\n",
    "r = Robot(\"Jerry\",\"White\",40)\n",
    "# r.weight = 40"
   ]
  },
  {
   "cell_type": "code",
   "execution_count": 17,
   "metadata": {},
   "outputs": [
    {
     "name": "stdout",
     "output_type": "stream",
     "text": [
      "My name is :Tom\n",
      "My name is :Jerry\n"
     ]
    }
   ],
   "source": [
    "r1.introduceSelf()\n",
    "r.introduceSelf()"
   ]
  },
  {
   "cell_type": "code",
   "execution_count": null,
   "metadata": {},
   "outputs": [],
   "source": [
    "class Node:\n",
    "   def __init__(self,datavalue):\n",
    "      self.datavalue = datavalue\n",
    "      self.nextvalue = None"
   ]
  }
 ],
 "metadata": {
  "kernelspec": {
   "display_name": "Python 3",
   "language": "python",
   "name": "python3"
  },
  "language_info": {
   "codemirror_mode": {
    "name": "ipython",
    "version": 3
   },
   "file_extension": ".py",
   "mimetype": "text/x-python",
   "name": "python",
   "nbconvert_exporter": "python",
   "pygments_lexer": "ipython3",
   "version": "3.10.12"
  },
  "orig_nbformat": 4
 },
 "nbformat": 4,
 "nbformat_minor": 2
}
