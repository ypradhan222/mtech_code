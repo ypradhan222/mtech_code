{
 "cells": [
  {
   "cell_type": "code",
   "execution_count": null,
   "metadata": {},
   "outputs": [],
   "source": [
    "import cv2 \n",
    "#Reading the image\n",
    "image = cv2.imread('/home/dmacs-5/Documents/mtech_2023/Image Processing/basket.png',cv2.IMREAD_GRAYSCALE)\n"
   ]
  }
 ],
 "metadata": {
  "language_info": {
   "name": "python"
  }
 },
 "nbformat": 4,
 "nbformat_minor": 2
}
